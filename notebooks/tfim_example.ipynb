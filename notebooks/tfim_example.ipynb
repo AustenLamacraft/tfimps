{
 "cells": [
  {
   "cell_type": "markdown",
   "metadata": {},
   "source": [
    "# Tfimps calculations for transverse field Ising"
   ]
  },
  {
   "cell_type": "code",
   "execution_count": 1,
   "metadata": {},
   "outputs": [],
   "source": [
    "import sys\n",
    "import tensorflow as tf\n",
    "sys.path.append(\"../\")\n",
    "from tfimps import Tfimps"
   ]
  },
  {
   "cell_type": "code",
   "execution_count": 2,
   "metadata": {
    "collapsed": true
   },
   "outputs": [],
   "source": [
    "phys_d = 2\n",
    "bond_d = 20\n",
    "\n",
    "imps = Tfimps(phys_d, bond_d, symmetrize=True)\n",
    "\n",
    "# Pauli matrices. For now we avoid complex numbers\n",
    "X = tf.constant([[0,1],[1,0]], dtype=tf.float64)\n",
    "iY = tf.constant([[0,1],[-1,0]], dtype=tf.float64)\n",
    "Z = tf.constant([[1,0],[0,-1]], dtype=tf.float64)\n",
    "\n",
    "I = tf.eye(phys_d, dtype=tf.float64)\n",
    "\n",
    "XX = tf.einsum('ij,kl->ikjl', X, X)\n",
    "YY = - tf.einsum('ij,kl->ikjl', iY, iY)\n",
    "ZZ = tf.einsum('ij,kl->ikjl', Z, Z)\n",
    "X1 = (tf.einsum('ij,kl->ikjl', X, I) + tf.einsum('ij,kl->ikjl', I, X)) / 2"
   ]
  },
  {
   "cell_type": "code",
   "execution_count": 3,
   "metadata": {},
   "outputs": [
    {
     "name": "stdout",
     "output_type": "stream",
     "text": [
      "-1.021517657304551\n",
      "-1.031702136235692\n",
      "-1.0438362260910117\n",
      "-1.0578485636947168\n",
      "-1.0736495390173075\n",
      "-1.0911194308642824\n",
      "-1.1100923163702419\n",
      "-1.1303326343292366\n",
      "-1.1515196707352617\n",
      "-1.1732170263308428\n",
      "-1.1948352528064823\n",
      "-1.2155956119495903\n",
      "-1.2344952944279488\n",
      "-1.2503045032379554\n",
      "-1.261669603560562\n",
      "-1.2674320903227845\n",
      "-1.2672393382153597\n",
      "-1.262256095244829\n",
      "-1.2552228805316745\n",
      "-1.2492024411278997\n",
      "-1.2460593269491222\n",
      "-1.2461307046555001\n",
      "-1.2487810774326753\n",
      "-1.253002983301103\n",
      "-1.257787477678215\n",
      "-1.2623094216700914\n",
      "-1.266005097761069\n",
      "-1.2685857615146896\n",
      "-1.2700076653639136\n",
      "-1.2704127057730765\n",
      "-1.270055263826941\n",
      "-1.2692314164424041\n",
      "-1.2682228914456248\n",
      "-1.2672612083217858\n",
      "-1.266510908636537\n",
      "-1.2660671176501825\n",
      "-1.2659620127553017\n",
      "-1.266175926427198\n",
      "-1.2666504325159313\n",
      "-1.2673020539045248\n",
      "-1.2680359164145472\n",
      "-1.2687588197070048\n",
      "-1.2693909988792227\n",
      "-1.2698755622054485\n",
      "-1.2701844517336103\n",
      "-1.2703199639190712\n",
      "-1.2703114486590785\n",
      "-1.2702076780276406\n",
      "-1.2700663068987537\n",
      "-1.2699425242731106\n"
     ]
    }
   ],
   "source": [
    "# Ising Hamiltonian (at criticality). Exact energy is -4/pi=-1.27324...\n",
    "h_ising = - ZZ - X1\n",
    "\n",
    "train_op = tf.train.AdamOptimizer(learning_rate = 0.01).minimize(imps.variational_e(h_ising))\n",
    "\n",
    "with tf.Session() as sess:\n",
    "\n",
    "    sess.run(tf.global_variables_initializer())\n",
    "\n",
    "    for i in range(50):\n",
    "        print(sess.run([imps.variational_e(h_ising), train_op])[0])"
   ]
  }
 ],
 "metadata": {
  "kernelspec": {
   "display_name": "Python (tensorflow)",
   "language": "python",
   "name": "tensorflow"
  },
  "language_info": {
   "codemirror_mode": {
    "name": "ipython",
    "version": 3
   },
   "file_extension": ".py",
   "mimetype": "text/x-python",
   "name": "python",
   "nbconvert_exporter": "python",
   "pygments_lexer": "ipython3",
   "version": "3.6.4"
  }
 },
 "nbformat": 4,
 "nbformat_minor": 2
}
