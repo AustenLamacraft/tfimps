{
 "cells": [
  {
   "cell_type": "markdown",
   "metadata": {},
   "source": [
    "# Tfimps calculations for transverse field Ising"
   ]
  },
  {
   "cell_type": "code",
   "execution_count": 2,
   "metadata": {},
   "outputs": [],
   "source": [
    "import sys\n",
    "import tensorflow as tf\n",
    "sys.path.append(\"../\")\n",
    "from tfimps import Tfimps"
   ]
  },
  {
   "cell_type": "code",
   "execution_count": 3,
   "metadata": {},
   "outputs": [],
   "source": [
    "phys_d = 2\n",
    "bond_d = 20\n",
    "\n",
    "imps = Tfimps(phys_d, bond_d, symmetrize=True)\n",
    "\n",
    "# Pauli matrices. For now we avoid complex numbers\n",
    "X = tf.constant([[0,1],[1,0]], dtype=tf.float64)\n",
    "iY = tf.constant([[0,1],[-1,0]], dtype=tf.float64)\n",
    "Z = tf.constant([[1,0],[0,-1]], dtype=tf.float64)\n",
    "\n",
    "I = tf.eye(phys_d, dtype=tf.float64)\n",
    "\n",
    "XX = tf.einsum('ij,kl->ikjl', X, X)\n",
    "YY = - tf.einsum('ij,kl->ikjl', iY, iY)\n",
    "ZZ = tf.einsum('ij,kl->ikjl', Z, Z)\n",
    "X1 = (tf.einsum('ij,kl->ikjl', X, I) + tf.einsum('ij,kl->ikjl', I, X)) / 2"
   ]
  },
  {
   "cell_type": "code",
   "execution_count": 4,
   "metadata": {},
   "outputs": [
    {
     "name": "stdout",
     "output_type": "stream",
     "text": [
      "-1.0153636465210516\n",
      "-1.023394847304776\n",
      "-1.033043928452233\n",
      "-1.0442537698972347\n",
      "-1.0569579575851888\n",
      "-1.0710722179196863\n",
      "-1.086494907501858\n",
      "-1.1031046278260417\n",
      "-1.1207465129004568\n",
      "-1.139207646529255\n",
      "-1.1581959930574954\n",
      "-1.1773283203690532\n",
      "-1.1961220713359528\n",
      "-1.2139887949313468\n",
      "-1.2302352088212507\n",
      "-1.244083956191969\n",
      "-1.254729610885902\n",
      "-1.2614530673624502\n",
      "-1.263837466862739\n",
      "-1.2621318077385413\n",
      "-1.257634349273565\n",
      "-1.2525567317017465\n",
      "-1.2490077586774013\n",
      "-1.2480112661786136\n",
      "-1.249479141525717\n",
      "-1.2527147818064766\n",
      "-1.2568542959312785\n",
      "-1.2611139214624465\n",
      "-1.2649012765379306\n",
      "-1.267850064920441\n",
      "-1.269810405379617\n",
      "-1.2708112998966774\n",
      "-1.2710073488991624\n",
      "-1.2706215163988035\n",
      "-1.2698943073837061\n",
      "-1.2690459236142146\n",
      "-1.2682532452034656\n",
      "-1.2676398250268814\n",
      "-1.2672753934131977\n",
      "-1.2671813583191847\n",
      "-1.2673396110284838\n",
      "-1.2677029176734085\n",
      "-1.2682058853527378\n",
      "-1.2687758378167315\n",
      "-1.2693429852647753\n",
      "-1.2698491703661918\n",
      "-1.2702543833629787\n",
      "-1.2705402920020772\n",
      "-1.2707103157507835\n",
      "-1.2707862621247523\n"
     ]
    }
   ],
   "source": [
    "# Ising Hamiltonian (at criticality). Exact energy is -4/pi=-1.27324...\n",
    "h_ising = - ZZ - X1\n",
    "\n",
    "train_op = tf.train.AdamOptimizer(learning_rate = 0.01).minimize(imps.variational_e(h_ising))\n",
    "\n",
    "with tf.Session() as sess:\n",
    "\n",
    "    sess.run(tf.global_variables_initializer())\n",
    "\n",
    "    for i in range(50):\n",
    "        print(sess.run([imps.variational_e(h_ising), train_op])[0])"
   ]
  },
  {
   "cell_type": "code",
   "execution_count": null,
   "metadata": {
    "collapsed": true
   },
   "outputs": [],
   "source": []
  }
 ],
 "metadata": {
  "kernelspec": {
   "display_name": "Python (tensorflow)",
   "language": "python",
   "name": "tensorflow"
  },
  "language_info": {
   "codemirror_mode": {
    "name": "ipython",
    "version": 3
   },
   "file_extension": ".py",
   "mimetype": "text/x-python",
   "name": "python",
   "nbconvert_exporter": "python",
   "pygments_lexer": "ipython3",
   "version": "3.6.4"
  }
 },
 "nbformat": 4,
 "nbformat_minor": 2
}
